{
 "cells": [
  {
   "cell_type": "code",
   "execution_count": 1,
   "metadata": {},
   "outputs": [],
   "source": [
    "using BlackBoxOptim\n",
    "using Plots"
   ]
  },
  {
   "cell_type": "code",
   "execution_count": 152,
   "metadata": {},
   "outputs": [
    {
     "name": "stdout",
     "output_type": "stream",
     "text": [
      "maxSteps1 = 350\n",
      "nbRepeatSteps = 10\n",
      "maxSteps2 = 3500\n",
      "populationSize = 50\n"
     ]
    }
   ],
   "source": [
    "multiplicativeCoeff = 7\n",
    "maxSteps1 = 50 * multiplicativeCoeff\n",
    "nbRepeatSteps = 10\n",
    "maxSteps2 = maxSteps1 * nbRepeatSteps\n",
    "populationSize = round(Int, maxSteps1/multiplicativeCoeff)\n",
    "\n",
    "println(\"maxSteps1 = $(maxSteps1)\")\n",
    "println(\"nbRepeatSteps = $(nbRepeatSteps)\")\n",
    "println(\"maxSteps2 = $(maxSteps2)\")\n",
    "println(\"populationSize = $(populationSize)\")"
   ]
  },
  {
   "cell_type": "code",
   "execution_count": 153,
   "metadata": {},
   "outputs": [
    {
     "data": {
      "text/plain": [
       "10-element Array{BlackBoxOptim.OptimizationResults,1}:\n",
       " BlackBoxOptim.OptimizationResults(\"adaptive_de_rand_1_bin_radiuslimited\", \"Max number of steps (350) reached\", 351, 1.53995e9, 0.000941992, BlackBoxOptim.DictChain{Symbol,Any}[BlackBoxOptim.DictChain{Symbol,Any}[Dict{Symbol,Any}(Pair{Symbol,Any}(:RngSeed, 711558),Pair{Symbol,Any}(:NumDimensions, 2),Pair{Symbol,Any}(:SearchRange, (-5.0, 5.0)),Pair{Symbol,Any}(:TraceMode, :silent),Pair{Symbol,Any}(:MaxSteps, 350),Pair{Symbol,Any}(:PopulationSize, 50)),Dict{Symbol,Any}()],Dict{Symbol,Any}(Pair{Symbol,Any}(:FitnessScheme, BlackBoxOptim.ScalarFitnessScheme{true}()),Pair{Symbol,Any}(:NumDimensions, :NotSpecified),Pair{Symbol,Any}(:PopulationSize, 50),Pair{Symbol,Any}(:MaxTime, 0.0),Pair{Symbol,Any}(:SearchRange, (-1.0, 1.0)),Pair{Symbol,Any}(:Method, :adaptive_de_rand_1_bin_radiuslimited),Pair{Symbol,Any}(:MaxNumStepsWithoutFuncEvals, 100),Pair{Symbol,Any}(:RngSeed, 1234),Pair{Symbol,Any}(:MaxFuncEvals, 0),Pair{Symbol,Any}(:SaveTrace, false)…)], 453, BlackBoxOptim.ScalarFitnessScheme{true}(), BlackBoxOptim.TopListArchiveOutput{Float64,Array{Float64,1}}(0.306482, [1.34475, 1.85166]), BlackBoxOptim.PopulationOptimizerOutput{BlackBoxOptim.FitPopulation{Float64}}(BlackBoxOptim.FitPopulation{Float64}([0.999837 1.00067 … 0.997109 1.00065; 0.999753 1.00128 … 0.994195 1.00118], NaN, [6.69213e-7, 7.71286e-7, 6.37075e-7, 3.32208e-7, 9.47675e-7, 2.53594e-6, 2.50053e-6, 3.1543e-7, 1.38044e-6, 1.27374e-6  …  3.16289e-7, 2.21145e-5, 1.1834e-6, 2.27253e-6, 1.71923e-6, 6.48065e-6, 1.15391e-6, 5.25738e-7, 8.45665e-6, 1.80474e-6], 0, BlackBoxOptim.Candidate{Float64}[BlackBoxOptim.Candidate{Float64}([1.00738, 1.01488], 21, 5.49031e-5, BlackBoxOptim.AdaptiveDiffEvoRandBin{3}(BlackBoxOptim.AdaptiveDiffEvoParameters(BlackBoxOptim.BimodalCauchy(Distributions.Cauchy{Float64}(μ=0.65, σ=0.1), Distributions.Cauchy{Float64}(μ=1.0, σ=0.1), 0.5, false, true), BlackBoxOptim.BimodalCauchy(Distributions.Cauchy{Float64}(μ=0.1, σ=0.1), Distributions.Cauchy{Float64}(μ=0.95, σ=0.1), 0.5, false, true), [0.855641, 0.769448, 0.34405, 0.0144586, 0.878429, 1.0, 0.981381, 1.0, 0.51326, 0.702109  …  0.719112, 1.0, 0.97002, 0.892188, 0.657094, 0.796886, 1.0, 0.714633, 0.764946, 0.74426], [0.122259, 1.0, 1.0, 0.861093, 0.251026, 0.455239, 0.210335, 0.171815, 1.0, 0.229888  …  0.0520782, 0.998853, 0.945222, 0.831433, 0.907165, 1.0, 1.0, 1.0, 0.972165, 0.150949])), 0), BlackBoxOptim.Candidate{Float64}([1.0131, 1.02681], 21, 0.000190856, BlackBoxOptim.AdaptiveDiffEvoRandBin{3}(BlackBoxOptim.AdaptiveDiffEvoParameters(BlackBoxOptim.BimodalCauchy(Distributions.Cauchy{Float64}(μ=0.65, σ=0.1), Distributions.Cauchy{Float64}(μ=1.0, σ=0.1), 0.5, false, true), BlackBoxOptim.BimodalCauchy(Distributions.Cauchy{Float64}(μ=0.1, σ=0.1), Distributions.Cauchy{Float64}(μ=0.95, σ=0.1), 0.5, false, true), [0.855641, 0.769448, 0.34405, 0.0144586, 0.878429, 1.0, 0.981381, 1.0, 0.51326, 0.702109  …  0.719112, 1.0, 0.97002, 0.892188, 0.657094, 0.796886, 1.0, 0.714633, 0.764946, 0.74426], [0.122259, 1.0, 1.0, 0.861093, 0.251026, 0.455239, 0.210335, 0.171815, 1.0, 0.229888  …  0.0520782, 0.998853, 0.945222, 0.831433, 0.907165, 1.0, 1.0, 1.0, 0.972165, 0.150949])), 0)])))    \n",
       " BlackBoxOptim.OptimizationResults(\"adaptive_de_rand_1_bin_radiuslimited\", \"Max number of steps (350) reached\", 351, 1.53995e9, 0.00127792, BlackBoxOptim.DictChain{Symbol,Any}[BlackBoxOptim.DictChain{Symbol,Any}[Dict{Symbol,Any}(Pair{Symbol,Any}(:RngSeed, 711558),Pair{Symbol,Any}(:NumDimensions, 2),Pair{Symbol,Any}(:SearchRange, (-5.0, 5.0)),Pair{Symbol,Any}(:TraceMode, :silent),Pair{Symbol,Any}(:MaxSteps, 350),Pair{Symbol,Any}(:PopulationSize, 50)),Dict{Symbol,Any}()],Dict{Symbol,Any}(Pair{Symbol,Any}(:FitnessScheme, BlackBoxOptim.ScalarFitnessScheme{true}()),Pair{Symbol,Any}(:NumDimensions, :NotSpecified),Pair{Symbol,Any}(:PopulationSize, 50),Pair{Symbol,Any}(:MaxTime, 0.0),Pair{Symbol,Any}(:SearchRange, (-1.0, 1.0)),Pair{Symbol,Any}(:Method, :adaptive_de_rand_1_bin_radiuslimited),Pair{Symbol,Any}(:MaxNumStepsWithoutFuncEvals, 100),Pair{Symbol,Any}(:RngSeed, 1234),Pair{Symbol,Any}(:MaxFuncEvals, 0),Pair{Symbol,Any}(:SaveTrace, false)…)], 366, BlackBoxOptim.ScalarFitnessScheme{true}(), BlackBoxOptim.TopListArchiveOutput{Float64,Array{Float64,1}}(0.0644341, [0.845218, 0.694275]), BlackBoxOptim.PopulationOptimizerOutput{BlackBoxOptim.FitPopulation{Float64}}(BlackBoxOptim.FitPopulation{Float64}([0.999837 1.00067 … 0.997109 1.00065; 0.999753 1.00128 … 0.994195 1.00118], NaN, [6.69213e-7, 7.71286e-7, 6.37075e-7, 3.32208e-7, 9.47675e-7, 2.53594e-6, 2.50053e-6, 3.1543e-7, 1.38044e-6, 1.27374e-6  …  3.16289e-7, 2.21145e-5, 1.1834e-6, 2.27253e-6, 1.71923e-6, 6.48065e-6, 1.15391e-6, 5.25738e-7, 8.45665e-6, 1.80474e-6], 0, BlackBoxOptim.Candidate{Float64}[BlackBoxOptim.Candidate{Float64}([1.00738, 1.01488], 21, 5.49031e-5, BlackBoxOptim.AdaptiveDiffEvoRandBin{3}(BlackBoxOptim.AdaptiveDiffEvoParameters(BlackBoxOptim.BimodalCauchy(Distributions.Cauchy{Float64}(μ=0.65, σ=0.1), Distributions.Cauchy{Float64}(μ=1.0, σ=0.1), 0.5, false, true), BlackBoxOptim.BimodalCauchy(Distributions.Cauchy{Float64}(μ=0.1, σ=0.1), Distributions.Cauchy{Float64}(μ=0.95, σ=0.1), 0.5, false, true), [0.855641, 0.769448, 0.34405, 0.0144586, 0.878429, 1.0, 0.981381, 1.0, 0.51326, 0.702109  …  0.719112, 1.0, 0.97002, 0.892188, 0.657094, 0.796886, 1.0, 0.714633, 0.764946, 0.74426], [0.122259, 1.0, 1.0, 0.861093, 0.251026, 0.455239, 0.210335, 0.171815, 1.0, 0.229888  …  0.0520782, 0.998853, 0.945222, 0.831433, 0.907165, 1.0, 1.0, 1.0, 0.972165, 0.150949])), 0), BlackBoxOptim.Candidate{Float64}([1.0131, 1.02681], 21, 0.000190856, BlackBoxOptim.AdaptiveDiffEvoRandBin{3}(BlackBoxOptim.AdaptiveDiffEvoParameters(BlackBoxOptim.BimodalCauchy(Distributions.Cauchy{Float64}(μ=0.65, σ=0.1), Distributions.Cauchy{Float64}(μ=1.0, σ=0.1), 0.5, false, true), BlackBoxOptim.BimodalCauchy(Distributions.Cauchy{Float64}(μ=0.1, σ=0.1), Distributions.Cauchy{Float64}(μ=0.95, σ=0.1), 0.5, false, true), [0.855641, 0.769448, 0.34405, 0.0144586, 0.878429, 1.0, 0.981381, 1.0, 0.51326, 0.702109  …  0.719112, 1.0, 0.97002, 0.892188, 0.657094, 0.796886, 1.0, 0.714633, 0.764946, 0.74426], [0.122259, 1.0, 1.0, 0.861093, 0.251026, 0.455239, 0.210335, 0.171815, 1.0, 0.229888  …  0.0520782, 0.998853, 0.945222, 0.831433, 0.907165, 1.0, 1.0, 1.0, 0.972165, 0.150949])), 0)])))  \n",
       " BlackBoxOptim.OptimizationResults(\"adaptive_de_rand_1_bin_radiuslimited\", \"Max number of steps (350) reached\", 351, 1.53995e9, 0.00105309, BlackBoxOptim.DictChain{Symbol,Any}[BlackBoxOptim.DictChain{Symbol,Any}[Dict{Symbol,Any}(Pair{Symbol,Any}(:RngSeed, 711558),Pair{Symbol,Any}(:NumDimensions, 2),Pair{Symbol,Any}(:SearchRange, (-5.0, 5.0)),Pair{Symbol,Any}(:TraceMode, :silent),Pair{Symbol,Any}(:MaxSteps, 350),Pair{Symbol,Any}(:PopulationSize, 50)),Dict{Symbol,Any}()],Dict{Symbol,Any}(Pair{Symbol,Any}(:FitnessScheme, BlackBoxOptim.ScalarFitnessScheme{true}()),Pair{Symbol,Any}(:NumDimensions, :NotSpecified),Pair{Symbol,Any}(:PopulationSize, 50),Pair{Symbol,Any}(:MaxTime, 0.0),Pair{Symbol,Any}(:SearchRange, (-1.0, 1.0)),Pair{Symbol,Any}(:Method, :adaptive_de_rand_1_bin_radiuslimited),Pair{Symbol,Any}(:MaxNumStepsWithoutFuncEvals, 100),Pair{Symbol,Any}(:RngSeed, 1234),Pair{Symbol,Any}(:MaxFuncEvals, 0),Pair{Symbol,Any}(:SaveTrace, false)…)], 353, BlackBoxOptim.ScalarFitnessScheme{true}(), BlackBoxOptim.TopListArchiveOutput{Float64,Array{Float64,1}}(0.00228594, [0.972101, 0.948864]), BlackBoxOptim.PopulationOptimizerOutput{BlackBoxOptim.FitPopulation{Float64}}(BlackBoxOptim.FitPopulation{Float64}([0.999837 1.00067 … 0.997109 1.00065; 0.999753 1.00128 … 0.994195 1.00118], NaN, [6.69213e-7, 7.71286e-7, 6.37075e-7, 3.32208e-7, 9.47675e-7, 2.53594e-6, 2.50053e-6, 3.1543e-7, 1.38044e-6, 1.27374e-6  …  3.16289e-7, 2.21145e-5, 1.1834e-6, 2.27253e-6, 1.71923e-6, 6.48065e-6, 1.15391e-6, 5.25738e-7, 8.45665e-6, 1.80474e-6], 0, BlackBoxOptim.Candidate{Float64}[BlackBoxOptim.Candidate{Float64}([1.00738, 1.01488], 21, 5.49031e-5, BlackBoxOptim.AdaptiveDiffEvoRandBin{3}(BlackBoxOptim.AdaptiveDiffEvoParameters(BlackBoxOptim.BimodalCauchy(Distributions.Cauchy{Float64}(μ=0.65, σ=0.1), Distributions.Cauchy{Float64}(μ=1.0, σ=0.1), 0.5, false, true), BlackBoxOptim.BimodalCauchy(Distributions.Cauchy{Float64}(μ=0.1, σ=0.1), Distributions.Cauchy{Float64}(μ=0.95, σ=0.1), 0.5, false, true), [0.855641, 0.769448, 0.34405, 0.0144586, 0.878429, 1.0, 0.981381, 1.0, 0.51326, 0.702109  …  0.719112, 1.0, 0.97002, 0.892188, 0.657094, 0.796886, 1.0, 0.714633, 0.764946, 0.74426], [0.122259, 1.0, 1.0, 0.861093, 0.251026, 0.455239, 0.210335, 0.171815, 1.0, 0.229888  …  0.0520782, 0.998853, 0.945222, 0.831433, 0.907165, 1.0, 1.0, 1.0, 0.972165, 0.150949])), 0), BlackBoxOptim.Candidate{Float64}([1.0131, 1.02681], 21, 0.000190856, BlackBoxOptim.AdaptiveDiffEvoRandBin{3}(BlackBoxOptim.AdaptiveDiffEvoParameters(BlackBoxOptim.BimodalCauchy(Distributions.Cauchy{Float64}(μ=0.65, σ=0.1), Distributions.Cauchy{Float64}(μ=1.0, σ=0.1), 0.5, false, true), BlackBoxOptim.BimodalCauchy(Distributions.Cauchy{Float64}(μ=0.1, σ=0.1), Distributions.Cauchy{Float64}(μ=0.95, σ=0.1), 0.5, false, true), [0.855641, 0.769448, 0.34405, 0.0144586, 0.878429, 1.0, 0.981381, 1.0, 0.51326, 0.702109  …  0.719112, 1.0, 0.97002, 0.892188, 0.657094, 0.796886, 1.0, 0.714633, 0.764946, 0.74426], [0.122259, 1.0, 1.0, 0.861093, 0.251026, 0.455239, 0.210335, 0.171815, 1.0, 0.229888  …  0.0520782, 0.998853, 0.945222, 0.831433, 0.907165, 1.0, 1.0, 1.0, 0.972165, 0.150949])), 0)]))) \n",
       " BlackBoxOptim.OptimizationResults(\"adaptive_de_rand_1_bin_radiuslimited\", \"Max number of steps (350) reached\", 351, 1.53995e9, 0.00161004, BlackBoxOptim.DictChain{Symbol,Any}[BlackBoxOptim.DictChain{Symbol,Any}[Dict{Symbol,Any}(Pair{Symbol,Any}(:RngSeed, 711558),Pair{Symbol,Any}(:NumDimensions, 2),Pair{Symbol,Any}(:SearchRange, (-5.0, 5.0)),Pair{Symbol,Any}(:TraceMode, :silent),Pair{Symbol,Any}(:MaxSteps, 350),Pair{Symbol,Any}(:PopulationSize, 50)),Dict{Symbol,Any}()],Dict{Symbol,Any}(Pair{Symbol,Any}(:FitnessScheme, BlackBoxOptim.ScalarFitnessScheme{true}()),Pair{Symbol,Any}(:NumDimensions, :NotSpecified),Pair{Symbol,Any}(:PopulationSize, 50),Pair{Symbol,Any}(:MaxTime, 0.0),Pair{Symbol,Any}(:SearchRange, (-1.0, 1.0)),Pair{Symbol,Any}(:Method, :adaptive_de_rand_1_bin_radiuslimited),Pair{Symbol,Any}(:MaxNumStepsWithoutFuncEvals, 100),Pair{Symbol,Any}(:RngSeed, 1234),Pair{Symbol,Any}(:MaxFuncEvals, 0),Pair{Symbol,Any}(:SaveTrace, false)…)], 351, BlackBoxOptim.ScalarFitnessScheme{true}(), BlackBoxOptim.TopListArchiveOutput{Float64,Array{Float64,1}}(0.002058, [0.980974, 0.966429]), BlackBoxOptim.PopulationOptimizerOutput{BlackBoxOptim.FitPopulation{Float64}}(BlackBoxOptim.FitPopulation{Float64}([0.999837 1.00067 … 0.997109 1.00065; 0.999753 1.00128 … 0.994195 1.00118], NaN, [6.69213e-7, 7.71286e-7, 6.37075e-7, 3.32208e-7, 9.47675e-7, 2.53594e-6, 2.50053e-6, 3.1543e-7, 1.38044e-6, 1.27374e-6  …  3.16289e-7, 2.21145e-5, 1.1834e-6, 2.27253e-6, 1.71923e-6, 6.48065e-6, 1.15391e-6, 5.25738e-7, 8.45665e-6, 1.80474e-6], 0, BlackBoxOptim.Candidate{Float64}[BlackBoxOptim.Candidate{Float64}([1.00738, 1.01488], 21, 5.49031e-5, BlackBoxOptim.AdaptiveDiffEvoRandBin{3}(BlackBoxOptim.AdaptiveDiffEvoParameters(BlackBoxOptim.BimodalCauchy(Distributions.Cauchy{Float64}(μ=0.65, σ=0.1), Distributions.Cauchy{Float64}(μ=1.0, σ=0.1), 0.5, false, true), BlackBoxOptim.BimodalCauchy(Distributions.Cauchy{Float64}(μ=0.1, σ=0.1), Distributions.Cauchy{Float64}(μ=0.95, σ=0.1), 0.5, false, true), [0.855641, 0.769448, 0.34405, 0.0144586, 0.878429, 1.0, 0.981381, 1.0, 0.51326, 0.702109  …  0.719112, 1.0, 0.97002, 0.892188, 0.657094, 0.796886, 1.0, 0.714633, 0.764946, 0.74426], [0.122259, 1.0, 1.0, 0.861093, 0.251026, 0.455239, 0.210335, 0.171815, 1.0, 0.229888  …  0.0520782, 0.998853, 0.945222, 0.831433, 0.907165, 1.0, 1.0, 1.0, 0.972165, 0.150949])), 0), BlackBoxOptim.Candidate{Float64}([1.0131, 1.02681], 21, 0.000190856, BlackBoxOptim.AdaptiveDiffEvoRandBin{3}(BlackBoxOptim.AdaptiveDiffEvoParameters(BlackBoxOptim.BimodalCauchy(Distributions.Cauchy{Float64}(μ=0.65, σ=0.1), Distributions.Cauchy{Float64}(μ=1.0, σ=0.1), 0.5, false, true), BlackBoxOptim.BimodalCauchy(Distributions.Cauchy{Float64}(μ=0.1, σ=0.1), Distributions.Cauchy{Float64}(μ=0.95, σ=0.1), 0.5, false, true), [0.855641, 0.769448, 0.34405, 0.0144586, 0.878429, 1.0, 0.981381, 1.0, 0.51326, 0.702109  …  0.719112, 1.0, 0.97002, 0.892188, 0.657094, 0.796886, 1.0, 0.714633, 0.764946, 0.74426], [0.122259, 1.0, 1.0, 0.861093, 0.251026, 0.455239, 0.210335, 0.171815, 1.0, 0.229888  …  0.0520782, 0.998853, 0.945222, 0.831433, 0.907165, 1.0, 1.0, 1.0, 0.972165, 0.150949])), 0)])))   \n",
       " BlackBoxOptim.OptimizationResults(\"adaptive_de_rand_1_bin_radiuslimited\", \"Max number of steps (350) reached\", 351, 1.53995e9, 0.000903845, BlackBoxOptim.DictChain{Symbol,Any}[BlackBoxOptim.DictChain{Symbol,Any}[Dict{Symbol,Any}(Pair{Symbol,Any}(:RngSeed, 711558),Pair{Symbol,Any}(:NumDimensions, 2),Pair{Symbol,Any}(:SearchRange, (-5.0, 5.0)),Pair{Symbol,Any}(:TraceMode, :silent),Pair{Symbol,Any}(:MaxSteps, 350),Pair{Symbol,Any}(:PopulationSize, 50)),Dict{Symbol,Any}()],Dict{Symbol,Any}(Pair{Symbol,Any}(:FitnessScheme, BlackBoxOptim.ScalarFitnessScheme{true}()),Pair{Symbol,Any}(:NumDimensions, :NotSpecified),Pair{Symbol,Any}(:PopulationSize, 50),Pair{Symbol,Any}(:MaxTime, 0.0),Pair{Symbol,Any}(:SearchRange, (-1.0, 1.0)),Pair{Symbol,Any}(:Method, :adaptive_de_rand_1_bin_radiuslimited),Pair{Symbol,Any}(:MaxNumStepsWithoutFuncEvals, 100),Pair{Symbol,Any}(:RngSeed, 1234),Pair{Symbol,Any}(:MaxFuncEvals, 0),Pair{Symbol,Any}(:SaveTrace, false)…)], 351, BlackBoxOptim.ScalarFitnessScheme{true}(), BlackBoxOptim.TopListArchiveOutput{Float64,Array{Float64,1}}(0.00137734, [0.966784, 0.933017]), BlackBoxOptim.PopulationOptimizerOutput{BlackBoxOptim.FitPopulation{Float64}}(BlackBoxOptim.FitPopulation{Float64}([0.999837 1.00067 … 0.997109 1.00065; 0.999753 1.00128 … 0.994195 1.00118], NaN, [6.69213e-7, 7.71286e-7, 6.37075e-7, 3.32208e-7, 9.47675e-7, 2.53594e-6, 2.50053e-6, 3.1543e-7, 1.38044e-6, 1.27374e-6  …  3.16289e-7, 2.21145e-5, 1.1834e-6, 2.27253e-6, 1.71923e-6, 6.48065e-6, 1.15391e-6, 5.25738e-7, 8.45665e-6, 1.80474e-6], 0, BlackBoxOptim.Candidate{Float64}[BlackBoxOptim.Candidate{Float64}([1.00738, 1.01488], 21, 5.49031e-5, BlackBoxOptim.AdaptiveDiffEvoRandBin{3}(BlackBoxOptim.AdaptiveDiffEvoParameters(BlackBoxOptim.BimodalCauchy(Distributions.Cauchy{Float64}(μ=0.65, σ=0.1), Distributions.Cauchy{Float64}(μ=1.0, σ=0.1), 0.5, false, true), BlackBoxOptim.BimodalCauchy(Distributions.Cauchy{Float64}(μ=0.1, σ=0.1), Distributions.Cauchy{Float64}(μ=0.95, σ=0.1), 0.5, false, true), [0.855641, 0.769448, 0.34405, 0.0144586, 0.878429, 1.0, 0.981381, 1.0, 0.51326, 0.702109  …  0.719112, 1.0, 0.97002, 0.892188, 0.657094, 0.796886, 1.0, 0.714633, 0.764946, 0.74426], [0.122259, 1.0, 1.0, 0.861093, 0.251026, 0.455239, 0.210335, 0.171815, 1.0, 0.229888  …  0.0520782, 0.998853, 0.945222, 0.831433, 0.907165, 1.0, 1.0, 1.0, 0.972165, 0.150949])), 0), BlackBoxOptim.Candidate{Float64}([1.0131, 1.02681], 21, 0.000190856, BlackBoxOptim.AdaptiveDiffEvoRandBin{3}(BlackBoxOptim.AdaptiveDiffEvoParameters(BlackBoxOptim.BimodalCauchy(Distributions.Cauchy{Float64}(μ=0.65, σ=0.1), Distributions.Cauchy{Float64}(μ=1.0, σ=0.1), 0.5, false, true), BlackBoxOptim.BimodalCauchy(Distributions.Cauchy{Float64}(μ=0.1, σ=0.1), Distributions.Cauchy{Float64}(μ=0.95, σ=0.1), 0.5, false, true), [0.855641, 0.769448, 0.34405, 0.0144586, 0.878429, 1.0, 0.981381, 1.0, 0.51326, 0.702109  …  0.719112, 1.0, 0.97002, 0.892188, 0.657094, 0.796886, 1.0, 0.714633, 0.764946, 0.74426], [0.122259, 1.0, 1.0, 0.861093, 0.251026, 0.455239, 0.210335, 0.171815, 1.0, 0.229888  …  0.0520782, 0.998853, 0.945222, 0.831433, 0.907165, 1.0, 1.0, 1.0, 0.972165, 0.150949])), 0)])))\n",
       " BlackBoxOptim.OptimizationResults(\"adaptive_de_rand_1_bin_radiuslimited\", \"Max number of steps (350) reached\", 351, 1.53995e9, 0.000955105, BlackBoxOptim.DictChain{Symbol,Any}[BlackBoxOptim.DictChain{Symbol,Any}[Dict{Symbol,Any}(Pair{Symbol,Any}(:RngSeed, 711558),Pair{Symbol,Any}(:NumDimensions, 2),Pair{Symbol,Any}(:SearchRange, (-5.0, 5.0)),Pair{Symbol,Any}(:TraceMode, :silent),Pair{Symbol,Any}(:MaxSteps, 350),Pair{Symbol,Any}(:PopulationSize, 50)),Dict{Symbol,Any}()],Dict{Symbol,Any}(Pair{Symbol,Any}(:FitnessScheme, BlackBoxOptim.ScalarFitnessScheme{true}()),Pair{Symbol,Any}(:NumDimensions, :NotSpecified),Pair{Symbol,Any}(:PopulationSize, 50),Pair{Symbol,Any}(:MaxTime, 0.0),Pair{Symbol,Any}(:SearchRange, (-1.0, 1.0)),Pair{Symbol,Any}(:Method, :adaptive_de_rand_1_bin_radiuslimited),Pair{Symbol,Any}(:MaxNumStepsWithoutFuncEvals, 100),Pair{Symbol,Any}(:RngSeed, 1234),Pair{Symbol,Any}(:MaxFuncEvals, 0),Pair{Symbol,Any}(:SaveTrace, false)…)], 351, BlackBoxOptim.ScalarFitnessScheme{true}(), BlackBoxOptim.TopListArchiveOutput{Float64,Array{Float64,1}}(9.2505e-5, [1.00661, 1.01397]), BlackBoxOptim.PopulationOptimizerOutput{BlackBoxOptim.FitPopulation{Float64}}(BlackBoxOptim.FitPopulation{Float64}([0.999837 1.00067 … 0.997109 1.00065; 0.999753 1.00128 … 0.994195 1.00118], NaN, [6.69213e-7, 7.71286e-7, 6.37075e-7, 3.32208e-7, 9.47675e-7, 2.53594e-6, 2.50053e-6, 3.1543e-7, 1.38044e-6, 1.27374e-6  …  3.16289e-7, 2.21145e-5, 1.1834e-6, 2.27253e-6, 1.71923e-6, 6.48065e-6, 1.15391e-6, 5.25738e-7, 8.45665e-6, 1.80474e-6], 0, BlackBoxOptim.Candidate{Float64}[BlackBoxOptim.Candidate{Float64}([1.00738, 1.01488], 21, 5.49031e-5, BlackBoxOptim.AdaptiveDiffEvoRandBin{3}(BlackBoxOptim.AdaptiveDiffEvoParameters(BlackBoxOptim.BimodalCauchy(Distributions.Cauchy{Float64}(μ=0.65, σ=0.1), Distributions.Cauchy{Float64}(μ=1.0, σ=0.1), 0.5, false, true), BlackBoxOptim.BimodalCauchy(Distributions.Cauchy{Float64}(μ=0.1, σ=0.1), Distributions.Cauchy{Float64}(μ=0.95, σ=0.1), 0.5, false, true), [0.855641, 0.769448, 0.34405, 0.0144586, 0.878429, 1.0, 0.981381, 1.0, 0.51326, 0.702109  …  0.719112, 1.0, 0.97002, 0.892188, 0.657094, 0.796886, 1.0, 0.714633, 0.764946, 0.74426], [0.122259, 1.0, 1.0, 0.861093, 0.251026, 0.455239, 0.210335, 0.171815, 1.0, 0.229888  …  0.0520782, 0.998853, 0.945222, 0.831433, 0.907165, 1.0, 1.0, 1.0, 0.972165, 0.150949])), 0), BlackBoxOptim.Candidate{Float64}([1.0131, 1.02681], 21, 0.000190856, BlackBoxOptim.AdaptiveDiffEvoRandBin{3}(BlackBoxOptim.AdaptiveDiffEvoParameters(BlackBoxOptim.BimodalCauchy(Distributions.Cauchy{Float64}(μ=0.65, σ=0.1), Distributions.Cauchy{Float64}(μ=1.0, σ=0.1), 0.5, false, true), BlackBoxOptim.BimodalCauchy(Distributions.Cauchy{Float64}(μ=0.1, σ=0.1), Distributions.Cauchy{Float64}(μ=0.95, σ=0.1), 0.5, false, true), [0.855641, 0.769448, 0.34405, 0.0144586, 0.878429, 1.0, 0.981381, 1.0, 0.51326, 0.702109  …  0.719112, 1.0, 0.97002, 0.892188, 0.657094, 0.796886, 1.0, 0.714633, 0.764946, 0.74426], [0.122259, 1.0, 1.0, 0.861093, 0.251026, 0.455239, 0.210335, 0.171815, 1.0, 0.229888  …  0.0520782, 0.998853, 0.945222, 0.831433, 0.907165, 1.0, 1.0, 1.0, 0.972165, 0.150949])), 0)])))   \n",
       " BlackBoxOptim.OptimizationResults(\"adaptive_de_rand_1_bin_radiuslimited\", \"Max number of steps (350) reached\", 351, 1.53995e9, 0.00121403, BlackBoxOptim.DictChain{Symbol,Any}[BlackBoxOptim.DictChain{Symbol,Any}[Dict{Symbol,Any}(Pair{Symbol,Any}(:RngSeed, 711558),Pair{Symbol,Any}(:NumDimensions, 2),Pair{Symbol,Any}(:SearchRange, (-5.0, 5.0)),Pair{Symbol,Any}(:TraceMode, :silent),Pair{Symbol,Any}(:MaxSteps, 350),Pair{Symbol,Any}(:PopulationSize, 50)),Dict{Symbol,Any}()],Dict{Symbol,Any}(Pair{Symbol,Any}(:FitnessScheme, BlackBoxOptim.ScalarFitnessScheme{true}()),Pair{Symbol,Any}(:NumDimensions, :NotSpecified),Pair{Symbol,Any}(:PopulationSize, 50),Pair{Symbol,Any}(:MaxTime, 0.0),Pair{Symbol,Any}(:SearchRange, (-1.0, 1.0)),Pair{Symbol,Any}(:Method, :adaptive_de_rand_1_bin_radiuslimited),Pair{Symbol,Any}(:MaxNumStepsWithoutFuncEvals, 100),Pair{Symbol,Any}(:RngSeed, 1234),Pair{Symbol,Any}(:MaxFuncEvals, 0),Pair{Symbol,Any}(:SaveTrace, false)…)], 351, BlackBoxOptim.ScalarFitnessScheme{true}(), BlackBoxOptim.TopListArchiveOutput{Float64,Array{Float64,1}}(2.1533e-5, [0.996596, 0.993519]), BlackBoxOptim.PopulationOptimizerOutput{BlackBoxOptim.FitPopulation{Float64}}(BlackBoxOptim.FitPopulation{Float64}([0.999837 1.00067 … 0.997109 1.00065; 0.999753 1.00128 … 0.994195 1.00118], NaN, [6.69213e-7, 7.71286e-7, 6.37075e-7, 3.32208e-7, 9.47675e-7, 2.53594e-6, 2.50053e-6, 3.1543e-7, 1.38044e-6, 1.27374e-6  …  3.16289e-7, 2.21145e-5, 1.1834e-6, 2.27253e-6, 1.71923e-6, 6.48065e-6, 1.15391e-6, 5.25738e-7, 8.45665e-6, 1.80474e-6], 0, BlackBoxOptim.Candidate{Float64}[BlackBoxOptim.Candidate{Float64}([1.00738, 1.01488], 21, 5.49031e-5, BlackBoxOptim.AdaptiveDiffEvoRandBin{3}(BlackBoxOptim.AdaptiveDiffEvoParameters(BlackBoxOptim.BimodalCauchy(Distributions.Cauchy{Float64}(μ=0.65, σ=0.1), Distributions.Cauchy{Float64}(μ=1.0, σ=0.1), 0.5, false, true), BlackBoxOptim.BimodalCauchy(Distributions.Cauchy{Float64}(μ=0.1, σ=0.1), Distributions.Cauchy{Float64}(μ=0.95, σ=0.1), 0.5, false, true), [0.855641, 0.769448, 0.34405, 0.0144586, 0.878429, 1.0, 0.981381, 1.0, 0.51326, 0.702109  …  0.719112, 1.0, 0.97002, 0.892188, 0.657094, 0.796886, 1.0, 0.714633, 0.764946, 0.74426], [0.122259, 1.0, 1.0, 0.861093, 0.251026, 0.455239, 0.210335, 0.171815, 1.0, 0.229888  …  0.0520782, 0.998853, 0.945222, 0.831433, 0.907165, 1.0, 1.0, 1.0, 0.972165, 0.150949])), 0), BlackBoxOptim.Candidate{Float64}([1.0131, 1.02681], 21, 0.000190856, BlackBoxOptim.AdaptiveDiffEvoRandBin{3}(BlackBoxOptim.AdaptiveDiffEvoParameters(BlackBoxOptim.BimodalCauchy(Distributions.Cauchy{Float64}(μ=0.65, σ=0.1), Distributions.Cauchy{Float64}(μ=1.0, σ=0.1), 0.5, false, true), BlackBoxOptim.BimodalCauchy(Distributions.Cauchy{Float64}(μ=0.1, σ=0.1), Distributions.Cauchy{Float64}(μ=0.95, σ=0.1), 0.5, false, true), [0.855641, 0.769448, 0.34405, 0.0144586, 0.878429, 1.0, 0.981381, 1.0, 0.51326, 0.702109  …  0.719112, 1.0, 0.97002, 0.892188, 0.657094, 0.796886, 1.0, 0.714633, 0.764946, 0.74426], [0.122259, 1.0, 1.0, 0.861093, 0.251026, 0.455239, 0.210335, 0.171815, 1.0, 0.229888  …  0.0520782, 0.998853, 0.945222, 0.831433, 0.907165, 1.0, 1.0, 1.0, 0.972165, 0.150949])), 0)])))  \n",
       " BlackBoxOptim.OptimizationResults(\"adaptive_de_rand_1_bin_radiuslimited\", \"Max number of steps (350) reached\", 351, 1.53995e9, 0.00113106, BlackBoxOptim.DictChain{Symbol,Any}[BlackBoxOptim.DictChain{Symbol,Any}[Dict{Symbol,Any}(Pair{Symbol,Any}(:RngSeed, 711558),Pair{Symbol,Any}(:NumDimensions, 2),Pair{Symbol,Any}(:SearchRange, (-5.0, 5.0)),Pair{Symbol,Any}(:TraceMode, :silent),Pair{Symbol,Any}(:MaxSteps, 350),Pair{Symbol,Any}(:PopulationSize, 50)),Dict{Symbol,Any}()],Dict{Symbol,Any}(Pair{Symbol,Any}(:FitnessScheme, BlackBoxOptim.ScalarFitnessScheme{true}()),Pair{Symbol,Any}(:NumDimensions, :NotSpecified),Pair{Symbol,Any}(:PopulationSize, 50),Pair{Symbol,Any}(:MaxTime, 0.0),Pair{Symbol,Any}(:SearchRange, (-1.0, 1.0)),Pair{Symbol,Any}(:Method, :adaptive_de_rand_1_bin_radiuslimited),Pair{Symbol,Any}(:MaxNumStepsWithoutFuncEvals, 100),Pair{Symbol,Any}(:RngSeed, 1234),Pair{Symbol,Any}(:MaxFuncEvals, 0),Pair{Symbol,Any}(:SaveTrace, false)…)], 351, BlackBoxOptim.ScalarFitnessScheme{true}(), BlackBoxOptim.TopListArchiveOutput{Float64,Array{Float64,1}}(1.16548e-5, [0.996608, 0.993189]), BlackBoxOptim.PopulationOptimizerOutput{BlackBoxOptim.FitPopulation{Float64}}(BlackBoxOptim.FitPopulation{Float64}([0.999837 1.00067 … 0.997109 1.00065; 0.999753 1.00128 … 0.994195 1.00118], NaN, [6.69213e-7, 7.71286e-7, 6.37075e-7, 3.32208e-7, 9.47675e-7, 2.53594e-6, 2.50053e-6, 3.1543e-7, 1.38044e-6, 1.27374e-6  …  3.16289e-7, 2.21145e-5, 1.1834e-6, 2.27253e-6, 1.71923e-6, 6.48065e-6, 1.15391e-6, 5.25738e-7, 8.45665e-6, 1.80474e-6], 0, BlackBoxOptim.Candidate{Float64}[BlackBoxOptim.Candidate{Float64}([1.00738, 1.01488], 21, 5.49031e-5, BlackBoxOptim.AdaptiveDiffEvoRandBin{3}(BlackBoxOptim.AdaptiveDiffEvoParameters(BlackBoxOptim.BimodalCauchy(Distributions.Cauchy{Float64}(μ=0.65, σ=0.1), Distributions.Cauchy{Float64}(μ=1.0, σ=0.1), 0.5, false, true), BlackBoxOptim.BimodalCauchy(Distributions.Cauchy{Float64}(μ=0.1, σ=0.1), Distributions.Cauchy{Float64}(μ=0.95, σ=0.1), 0.5, false, true), [0.855641, 0.769448, 0.34405, 0.0144586, 0.878429, 1.0, 0.981381, 1.0, 0.51326, 0.702109  …  0.719112, 1.0, 0.97002, 0.892188, 0.657094, 0.796886, 1.0, 0.714633, 0.764946, 0.74426], [0.122259, 1.0, 1.0, 0.861093, 0.251026, 0.455239, 0.210335, 0.171815, 1.0, 0.229888  …  0.0520782, 0.998853, 0.945222, 0.831433, 0.907165, 1.0, 1.0, 1.0, 0.972165, 0.150949])), 0), BlackBoxOptim.Candidate{Float64}([1.0131, 1.02681], 21, 0.000190856, BlackBoxOptim.AdaptiveDiffEvoRandBin{3}(BlackBoxOptim.AdaptiveDiffEvoParameters(BlackBoxOptim.BimodalCauchy(Distributions.Cauchy{Float64}(μ=0.65, σ=0.1), Distributions.Cauchy{Float64}(μ=1.0, σ=0.1), 0.5, false, true), BlackBoxOptim.BimodalCauchy(Distributions.Cauchy{Float64}(μ=0.1, σ=0.1), Distributions.Cauchy{Float64}(μ=0.95, σ=0.1), 0.5, false, true), [0.855641, 0.769448, 0.34405, 0.0144586, 0.878429, 1.0, 0.981381, 1.0, 0.51326, 0.702109  …  0.719112, 1.0, 0.97002, 0.892188, 0.657094, 0.796886, 1.0, 0.714633, 0.764946, 0.74426], [0.122259, 1.0, 1.0, 0.861093, 0.251026, 0.455239, 0.210335, 0.171815, 1.0, 0.229888  …  0.0520782, 0.998853, 0.945222, 0.831433, 0.907165, 1.0, 1.0, 1.0, 0.972165, 0.150949])), 0)]))) \n",
       " BlackBoxOptim.OptimizationResults(\"adaptive_de_rand_1_bin_radiuslimited\", \"Max number of steps (350) reached\", 351, 1.53995e9, 0.000931025, BlackBoxOptim.DictChain{Symbol,Any}[BlackBoxOptim.DictChain{Symbol,Any}[Dict{Symbol,Any}(Pair{Symbol,Any}(:RngSeed, 711558),Pair{Symbol,Any}(:NumDimensions, 2),Pair{Symbol,Any}(:SearchRange, (-5.0, 5.0)),Pair{Symbol,Any}(:TraceMode, :silent),Pair{Symbol,Any}(:MaxSteps, 350),Pair{Symbol,Any}(:PopulationSize, 50)),Dict{Symbol,Any}()],Dict{Symbol,Any}(Pair{Symbol,Any}(:FitnessScheme, BlackBoxOptim.ScalarFitnessScheme{true}()),Pair{Symbol,Any}(:NumDimensions, :NotSpecified),Pair{Symbol,Any}(:PopulationSize, 50),Pair{Symbol,Any}(:MaxTime, 0.0),Pair{Symbol,Any}(:SearchRange, (-1.0, 1.0)),Pair{Symbol,Any}(:Method, :adaptive_de_rand_1_bin_radiuslimited),Pair{Symbol,Any}(:MaxNumStepsWithoutFuncEvals, 100),Pair{Symbol,Any}(:RngSeed, 1234),Pair{Symbol,Any}(:MaxFuncEvals, 0),Pair{Symbol,Any}(:SaveTrace, false)…)], 351, BlackBoxOptim.ScalarFitnessScheme{true}(), BlackBoxOptim.TopListArchiveOutput{Float64,Array{Float64,1}}(6.37075e-7, [0.999228, 0.998476]), BlackBoxOptim.PopulationOptimizerOutput{BlackBoxOptim.FitPopulation{Float64}}(BlackBoxOptim.FitPopulation{Float64}([0.999837 1.00067 … 0.997109 1.00065; 0.999753 1.00128 … 0.994195 1.00118], NaN, [6.69213e-7, 7.71286e-7, 6.37075e-7, 3.32208e-7, 9.47675e-7, 2.53594e-6, 2.50053e-6, 3.1543e-7, 1.38044e-6, 1.27374e-6  …  3.16289e-7, 2.21145e-5, 1.1834e-6, 2.27253e-6, 1.71923e-6, 6.48065e-6, 1.15391e-6, 5.25738e-7, 8.45665e-6, 1.80474e-6], 0, BlackBoxOptim.Candidate{Float64}[BlackBoxOptim.Candidate{Float64}([1.00738, 1.01488], 21, 5.49031e-5, BlackBoxOptim.AdaptiveDiffEvoRandBin{3}(BlackBoxOptim.AdaptiveDiffEvoParameters(BlackBoxOptim.BimodalCauchy(Distributions.Cauchy{Float64}(μ=0.65, σ=0.1), Distributions.Cauchy{Float64}(μ=1.0, σ=0.1), 0.5, false, true), BlackBoxOptim.BimodalCauchy(Distributions.Cauchy{Float64}(μ=0.1, σ=0.1), Distributions.Cauchy{Float64}(μ=0.95, σ=0.1), 0.5, false, true), [0.855641, 0.769448, 0.34405, 0.0144586, 0.878429, 1.0, 0.981381, 1.0, 0.51326, 0.702109  …  0.719112, 1.0, 0.97002, 0.892188, 0.657094, 0.796886, 1.0, 0.714633, 0.764946, 0.74426], [0.122259, 1.0, 1.0, 0.861093, 0.251026, 0.455239, 0.210335, 0.171815, 1.0, 0.229888  …  0.0520782, 0.998853, 0.945222, 0.831433, 0.907165, 1.0, 1.0, 1.0, 0.972165, 0.150949])), 0), BlackBoxOptim.Candidate{Float64}([1.0131, 1.02681], 21, 0.000190856, BlackBoxOptim.AdaptiveDiffEvoRandBin{3}(BlackBoxOptim.AdaptiveDiffEvoParameters(BlackBoxOptim.BimodalCauchy(Distributions.Cauchy{Float64}(μ=0.65, σ=0.1), Distributions.Cauchy{Float64}(μ=1.0, σ=0.1), 0.5, false, true), BlackBoxOptim.BimodalCauchy(Distributions.Cauchy{Float64}(μ=0.1, σ=0.1), Distributions.Cauchy{Float64}(μ=0.95, σ=0.1), 0.5, false, true), [0.855641, 0.769448, 0.34405, 0.0144586, 0.878429, 1.0, 0.981381, 1.0, 0.51326, 0.702109  …  0.719112, 1.0, 0.97002, 0.892188, 0.657094, 0.796886, 1.0, 0.714633, 0.764946, 0.74426], [0.122259, 1.0, 1.0, 0.861093, 0.251026, 0.455239, 0.210335, 0.171815, 1.0, 0.229888  …  0.0520782, 0.998853, 0.945222, 0.831433, 0.907165, 1.0, 1.0, 1.0, 0.972165, 0.150949])), 0)])))\n",
       " BlackBoxOptim.OptimizationResults(\"adaptive_de_rand_1_bin_radiuslimited\", \"Max number of steps (350) reached\", 351, 1.53995e9, 0.00089407, BlackBoxOptim.DictChain{Symbol,Any}[BlackBoxOptim.DictChain{Symbol,Any}[Dict{Symbol,Any}(Pair{Symbol,Any}(:RngSeed, 711558),Pair{Symbol,Any}(:NumDimensions, 2),Pair{Symbol,Any}(:SearchRange, (-5.0, 5.0)),Pair{Symbol,Any}(:TraceMode, :silent),Pair{Symbol,Any}(:MaxSteps, 350),Pair{Symbol,Any}(:PopulationSize, 50)),Dict{Symbol,Any}()],Dict{Symbol,Any}(Pair{Symbol,Any}(:FitnessScheme, BlackBoxOptim.ScalarFitnessScheme{true}()),Pair{Symbol,Any}(:NumDimensions, :NotSpecified),Pair{Symbol,Any}(:PopulationSize, 50),Pair{Symbol,Any}(:MaxTime, 0.0),Pair{Symbol,Any}(:SearchRange, (-1.0, 1.0)),Pair{Symbol,Any}(:Method, :adaptive_de_rand_1_bin_radiuslimited),Pair{Symbol,Any}(:MaxNumStepsWithoutFuncEvals, 100),Pair{Symbol,Any}(:RngSeed, 1234),Pair{Symbol,Any}(:MaxFuncEvals, 0),Pair{Symbol,Any}(:SaveTrace, false)…)], 351, BlackBoxOptim.ScalarFitnessScheme{true}(), BlackBoxOptim.TopListArchiveOutput{Float64,Array{Float64,1}}(3.1543e-7, [0.999439, 0.998876]), BlackBoxOptim.PopulationOptimizerOutput{BlackBoxOptim.FitPopulation{Float64}}(BlackBoxOptim.FitPopulation{Float64}([0.999837 1.00067 … 0.997109 1.00065; 0.999753 1.00128 … 0.994195 1.00118], NaN, [6.69213e-7, 7.71286e-7, 6.37075e-7, 3.32208e-7, 9.47675e-7, 2.53594e-6, 2.50053e-6, 3.1543e-7, 1.38044e-6, 1.27374e-6  …  3.16289e-7, 2.21145e-5, 1.1834e-6, 2.27253e-6, 1.71923e-6, 6.48065e-6, 1.15391e-6, 5.25738e-7, 8.45665e-6, 1.80474e-6], 0, BlackBoxOptim.Candidate{Float64}[BlackBoxOptim.Candidate{Float64}([1.00738, 1.01488], 21, 5.49031e-5, BlackBoxOptim.AdaptiveDiffEvoRandBin{3}(BlackBoxOptim.AdaptiveDiffEvoParameters(BlackBoxOptim.BimodalCauchy(Distributions.Cauchy{Float64}(μ=0.65, σ=0.1), Distributions.Cauchy{Float64}(μ=1.0, σ=0.1), 0.5, false, true), BlackBoxOptim.BimodalCauchy(Distributions.Cauchy{Float64}(μ=0.1, σ=0.1), Distributions.Cauchy{Float64}(μ=0.95, σ=0.1), 0.5, false, true), [0.855641, 0.769448, 0.34405, 0.0144586, 0.878429, 1.0, 0.981381, 1.0, 0.51326, 0.702109  …  0.719112, 1.0, 0.97002, 0.892188, 0.657094, 0.796886, 1.0, 0.714633, 0.764946, 0.74426], [0.122259, 1.0, 1.0, 0.861093, 0.251026, 0.455239, 0.210335, 0.171815, 1.0, 0.229888  …  0.0520782, 0.998853, 0.945222, 0.831433, 0.907165, 1.0, 1.0, 1.0, 0.972165, 0.150949])), 0), BlackBoxOptim.Candidate{Float64}([1.0131, 1.02681], 21, 0.000190856, BlackBoxOptim.AdaptiveDiffEvoRandBin{3}(BlackBoxOptim.AdaptiveDiffEvoParameters(BlackBoxOptim.BimodalCauchy(Distributions.Cauchy{Float64}(μ=0.65, σ=0.1), Distributions.Cauchy{Float64}(μ=1.0, σ=0.1), 0.5, false, true), BlackBoxOptim.BimodalCauchy(Distributions.Cauchy{Float64}(μ=0.1, σ=0.1), Distributions.Cauchy{Float64}(μ=0.95, σ=0.1), 0.5, false, true), [0.855641, 0.769448, 0.34405, 0.0144586, 0.878429, 1.0, 0.981381, 1.0, 0.51326, 0.702109  …  0.719112, 1.0, 0.97002, 0.892188, 0.657094, 0.796886, 1.0, 0.714633, 0.764946, 0.74426], [0.122259, 1.0, 1.0, 0.861093, 0.251026, 0.455239, 0.210335, 0.171815, 1.0, 0.229888  …  0.0520782, 0.998853, 0.945222, 0.831433, 0.907165, 1.0, 1.0, 1.0, 0.972165, 0.150949])), 0)])))  "
      ]
     },
     "execution_count": 153,
     "metadata": {},
     "output_type": "execute_result"
    }
   ],
   "source": [
    "# Source: https://github.com/robertfeldt/BlackBoxOptim.jl/blob/master/examples/restarting_optimization.jl\n",
    "# Modifications:\n",
    "# * run the minimization by batch of 10 iterations, 100 times\n",
    "# * run the minimization in a single shot, 1000 iterations\n",
    "# Expected result:\n",
    "# The two strategies should give the same results\n",
    "rosenbrock2d(x) = abs2(1.0 - x[1]) + 100.0 * abs2(x[2] - x[1]^2)\n",
    "\n",
    "\n",
    "opt1 = bbsetup(rosenbrock2d; SearchRange = (-5.0, 5.0), NumDimensions = 2,\n",
    "    MaxSteps = maxSteps1, PopulationSize = populationSize, TraceMode = :silent);\n",
    "\n",
    "# Run the minimization \"100 by 100\"\n",
    "listRes = [bboptimize(opt1) for i in 1:nbRepeatSteps]"
   ]
  },
  {
   "cell_type": "code",
   "execution_count": 154,
   "metadata": {},
   "outputs": [
    {
     "data": {
      "text/plain": [
       "10-element Array{Array{Float64,1},1}:\n",
       " [1.34475, 1.85166]  \n",
       " [0.845218, 0.694275]\n",
       " [0.972101, 0.948864]\n",
       " [0.980974, 0.966429]\n",
       " [0.966784, 0.933017]\n",
       " [1.00661, 1.01397]  \n",
       " [0.996596, 0.993519]\n",
       " [0.996608, 0.993189]\n",
       " [0.999228, 0.998476]\n",
       " [0.999439, 0.998876]"
      ]
     },
     "execution_count": 154,
     "metadata": {},
     "output_type": "execute_result"
    },
    {
     "name": "stdout",
     "output_type": "stream",
     "text": [
      "Fitness progress: [0.306482, 0.0644341, 0.00228594, 0.002058, 0.00137734, 9.2505e-5, 2.1533e-5, 1.16548e-5, 6.37075e-7, 3.1543e-7]\n"
     ]
    }
   ],
   "source": [
    "# Now compare fitness progress:\n",
    "progressFitness = map(best_fitness, listRes)\n",
    "println(\"Fitness progress: \", progressFitness)\n",
    "\n",
    "progressBestCandidates = map(best_candidate, listRes)"
   ]
  },
  {
   "cell_type": "code",
   "execution_count": 155,
   "metadata": {},
   "outputs": [
    {
     "data": {
      "text/plain": [
       "5.847859083441752e-7"
      ]
     },
     "execution_count": 155,
     "metadata": {},
     "output_type": "execute_result"
    }
   ],
   "source": [
    "# Now let's compare with running 1000 iterations in a single shot\n",
    "opt2 = bbsetup(rosenbrock2d; SearchRange = (-5.0, 5.0), NumDimensions = 2,\n",
    "    MaxSteps = maxSteps2, TraceMode = :silent);\n",
    "\n",
    "resOneShot = bboptimize(opt2)\n",
    "bestCandidateOneShot = best_candidate(resOneShot)\n",
    "bestFitnessOneShot = best_fitness(resOneShot)"
   ]
  },
  {
   "cell_type": "code",
   "execution_count": 156,
   "metadata": {
    "scrolled": true
   },
   "outputs": [
    {
     "name": "stdout",
     "output_type": "stream",
     "text": [
      "Best solution progress: Array{Float64,1}[[1.34475, 1.85166], [0.845218, 0.694275], [0.972101, 0.948864], [0.980974, 0.966429], [0.966784, 0.933017], [1.00661, 1.01397], [0.996596, 0.993519], [0.996608, 0.993189], [0.999228, 0.998476], [0.999439, 0.998876]]\n",
      "Difference fitness restarting vs one-shot = -2.693563172029586e-7\n",
      "Best value restarting = [0.999439, 0.998876]\n",
      "Best value one-shot = [0.999641, 0.999216]\n"
     ]
    }
   ],
   "source": [
    "# And results should approach the Rosenbrock optimum at [1.0, 1.0]:\n",
    "println(\"Best solution progress: \", progressBestCandidates)\n",
    "\n",
    "println(\"Difference fitness restarting vs one-shot = $(progressFitness[nbRepeatSteps] - bestFitnessOneShot)\")\n",
    "println(\"Best value restarting = $(progressBestCandidates[nbRepeatSteps])\")\n",
    "println(\"Best value one-shot = $(bestCandidateOneShot)\")"
   ]
  },
  {
   "cell_type": "code",
   "execution_count": 157,
   "metadata": {
    "scrolled": true
   },
   "outputs": [
    {
     "data": {
      "image/svg+xml": [
       "<?xml version=\"1.0\" encoding=\"utf-8\"?>\n",
       "<svg xmlns=\"http://www.w3.org/2000/svg\" xmlns:xlink=\"http://www.w3.org/1999/xlink\" width=\"600\" height=\"400\" viewBox=\"0 0 600 400\">\n",
       "<defs>\n",
       "  <clipPath id=\"clip4200\">\n",
       "    <rect x=\"0\" y=\"0\" width=\"600\" height=\"400\"/>\n",
       "  </clipPath>\n",
       "</defs>\n",
       "<polygon clip-path=\"url(#clip4200)\" points=\"\n",
       "0,400 600,400 600,0 0,0 \n",
       "  \" fill=\"#ffffff\" fill-opacity=\"1\"/>\n",
       "<defs>\n",
       "  <clipPath id=\"clip4201\">\n",
       "    <rect x=\"120\" y=\"0\" width=\"421\" height=\"400\"/>\n",
       "  </clipPath>\n",
       "</defs>\n",
       "<polygon clip-path=\"url(#clip4200)\" points=\"\n",
       "56.0965,360.121 580.315,360.121 580.315,11.811 56.0965,11.811 \n",
       "  \" fill=\"#ffffff\" fill-opacity=\"1\"/>\n",
       "<defs>\n",
       "  <clipPath id=\"clip4202\">\n",
       "    <rect x=\"56\" y=\"11\" width=\"525\" height=\"349\"/>\n",
       "  </clipPath>\n",
       "</defs>\n",
       "<polyline clip-path=\"url(#clip4202)\" style=\"stroke:#000000; stroke-width:0.5; stroke-opacity:0.1; fill:none\" points=\"\n",
       "  125.882,360.121 125.882,11.811 \n",
       "  \"/>\n",
       "<polyline clip-path=\"url(#clip4202)\" style=\"stroke:#000000; stroke-width:0.5; stroke-opacity:0.1; fill:none\" points=\"\n",
       "  235.781,360.121 235.781,11.811 \n",
       "  \"/>\n",
       "<polyline clip-path=\"url(#clip4202)\" style=\"stroke:#000000; stroke-width:0.5; stroke-opacity:0.1; fill:none\" points=\"\n",
       "  345.681,360.121 345.681,11.811 \n",
       "  \"/>\n",
       "<polyline clip-path=\"url(#clip4202)\" style=\"stroke:#000000; stroke-width:0.5; stroke-opacity:0.1; fill:none\" points=\"\n",
       "  455.58,360.121 455.58,11.811 \n",
       "  \"/>\n",
       "<polyline clip-path=\"url(#clip4202)\" style=\"stroke:#000000; stroke-width:0.5; stroke-opacity:0.1; fill:none\" points=\"\n",
       "  565.479,360.121 565.479,11.811 \n",
       "  \"/>\n",
       "<polyline clip-path=\"url(#clip4202)\" style=\"stroke:#000000; stroke-width:0.5; stroke-opacity:0.1; fill:none\" points=\"\n",
       "  56.0965,350.263 580.315,350.263 \n",
       "  \"/>\n",
       "<polyline clip-path=\"url(#clip4202)\" style=\"stroke:#000000; stroke-width:0.5; stroke-opacity:0.1; fill:none\" points=\"\n",
       "  56.0965,243.048 580.315,243.048 \n",
       "  \"/>\n",
       "<polyline clip-path=\"url(#clip4202)\" style=\"stroke:#000000; stroke-width:0.5; stroke-opacity:0.1; fill:none\" points=\"\n",
       "  56.0965,135.834 580.315,135.834 \n",
       "  \"/>\n",
       "<polyline clip-path=\"url(#clip4202)\" style=\"stroke:#000000; stroke-width:0.5; stroke-opacity:0.1; fill:none\" points=\"\n",
       "  56.0965,28.6187 580.315,28.6187 \n",
       "  \"/>\n",
       "<polyline clip-path=\"url(#clip4200)\" style=\"stroke:#000000; stroke-width:1; stroke-opacity:1; fill:none\" points=\"\n",
       "  56.0965,360.121 580.315,360.121 \n",
       "  \"/>\n",
       "<polyline clip-path=\"url(#clip4200)\" style=\"stroke:#000000; stroke-width:1; stroke-opacity:1; fill:none\" points=\"\n",
       "  56.0965,360.121 56.0965,11.811 \n",
       "  \"/>\n",
       "<polyline clip-path=\"url(#clip4200)\" style=\"stroke:#000000; stroke-width:1; stroke-opacity:1; fill:none\" points=\"\n",
       "  125.882,360.121 125.882,354.896 \n",
       "  \"/>\n",
       "<polyline clip-path=\"url(#clip4200)\" style=\"stroke:#000000; stroke-width:1; stroke-opacity:1; fill:none\" points=\"\n",
       "  235.781,360.121 235.781,354.896 \n",
       "  \"/>\n",
       "<polyline clip-path=\"url(#clip4200)\" style=\"stroke:#000000; stroke-width:1; stroke-opacity:1; fill:none\" points=\"\n",
       "  345.681,360.121 345.681,354.896 \n",
       "  \"/>\n",
       "<polyline clip-path=\"url(#clip4200)\" style=\"stroke:#000000; stroke-width:1; stroke-opacity:1; fill:none\" points=\"\n",
       "  455.58,360.121 455.58,354.896 \n",
       "  \"/>\n",
       "<polyline clip-path=\"url(#clip4200)\" style=\"stroke:#000000; stroke-width:1; stroke-opacity:1; fill:none\" points=\"\n",
       "  565.479,360.121 565.479,354.896 \n",
       "  \"/>\n",
       "<polyline clip-path=\"url(#clip4200)\" style=\"stroke:#000000; stroke-width:1; stroke-opacity:1; fill:none\" points=\"\n",
       "  56.0965,350.263 63.9598,350.263 \n",
       "  \"/>\n",
       "<polyline clip-path=\"url(#clip4200)\" style=\"stroke:#000000; stroke-width:1; stroke-opacity:1; fill:none\" points=\"\n",
       "  56.0965,243.048 63.9598,243.048 \n",
       "  \"/>\n",
       "<polyline clip-path=\"url(#clip4200)\" style=\"stroke:#000000; stroke-width:1; stroke-opacity:1; fill:none\" points=\"\n",
       "  56.0965,135.834 63.9598,135.834 \n",
       "  \"/>\n",
       "<polyline clip-path=\"url(#clip4200)\" style=\"stroke:#000000; stroke-width:1; stroke-opacity:1; fill:none\" points=\"\n",
       "  56.0965,28.6187 63.9598,28.6187 \n",
       "  \"/>\n",
       "<g clip-path=\"url(#clip4200)\">\n",
       "<text style=\"fill:#000000; fill-opacity:1; font-family:Arial,Helvetica Neue,Helvetica,sans-serif; font-size:12; text-anchor:middle;\" transform=\"rotate(0, 125.882, 373.921)\" x=\"125.882\" y=\"373.921\">2</text>\n",
       "</g>\n",
       "<g clip-path=\"url(#clip4200)\">\n",
       "<text style=\"fill:#000000; fill-opacity:1; font-family:Arial,Helvetica Neue,Helvetica,sans-serif; font-size:12; text-anchor:middle;\" transform=\"rotate(0, 235.781, 373.921)\" x=\"235.781\" y=\"373.921\">4</text>\n",
       "</g>\n",
       "<g clip-path=\"url(#clip4200)\">\n",
       "<text style=\"fill:#000000; fill-opacity:1; font-family:Arial,Helvetica Neue,Helvetica,sans-serif; font-size:12; text-anchor:middle;\" transform=\"rotate(0, 345.681, 373.921)\" x=\"345.681\" y=\"373.921\">6</text>\n",
       "</g>\n",
       "<g clip-path=\"url(#clip4200)\">\n",
       "<text style=\"fill:#000000; fill-opacity:1; font-family:Arial,Helvetica Neue,Helvetica,sans-serif; font-size:12; text-anchor:middle;\" transform=\"rotate(0, 455.58, 373.921)\" x=\"455.58\" y=\"373.921\">8</text>\n",
       "</g>\n",
       "<g clip-path=\"url(#clip4200)\">\n",
       "<text style=\"fill:#000000; fill-opacity:1; font-family:Arial,Helvetica Neue,Helvetica,sans-serif; font-size:12; text-anchor:middle;\" transform=\"rotate(0, 565.479, 373.921)\" x=\"565.479\" y=\"373.921\">10</text>\n",
       "</g>\n",
       "<g clip-path=\"url(#clip4200)\">\n",
       "<text style=\"fill:#000000; fill-opacity:1; font-family:Arial,Helvetica Neue,Helvetica,sans-serif; font-size:12; text-anchor:end;\" transform=\"rotate(0, 50.0965, 354.763)\" x=\"50.0965\" y=\"354.763\">0.0</text>\n",
       "</g>\n",
       "<g clip-path=\"url(#clip4200)\">\n",
       "<text style=\"fill:#000000; fill-opacity:1; font-family:Arial,Helvetica Neue,Helvetica,sans-serif; font-size:12; text-anchor:end;\" transform=\"rotate(0, 50.0965, 247.548)\" x=\"50.0965\" y=\"247.548\">0.1</text>\n",
       "</g>\n",
       "<g clip-path=\"url(#clip4200)\">\n",
       "<text style=\"fill:#000000; fill-opacity:1; font-family:Arial,Helvetica Neue,Helvetica,sans-serif; font-size:12; text-anchor:end;\" transform=\"rotate(0, 50.0965, 140.334)\" x=\"50.0965\" y=\"140.334\">0.2</text>\n",
       "</g>\n",
       "<g clip-path=\"url(#clip4200)\">\n",
       "<text style=\"fill:#000000; fill-opacity:1; font-family:Arial,Helvetica Neue,Helvetica,sans-serif; font-size:12; text-anchor:end;\" transform=\"rotate(0, 50.0965, 33.1187)\" x=\"50.0965\" y=\"33.1187\">0.3</text>\n",
       "</g>\n",
       "<g clip-path=\"url(#clip4200)\">\n",
       "<text style=\"fill:#000000; fill-opacity:1; font-family:Arial,Helvetica Neue,Helvetica,sans-serif; font-size:16; text-anchor:middle;\" transform=\"rotate(0, 318.206, 397.6)\" x=\"318.206\" y=\"397.6\">Batch number</text>\n",
       "</g>\n",
       "<g clip-path=\"url(#clip4200)\">\n",
       "<text style=\"fill:#000000; fill-opacity:1; font-family:Arial,Helvetica Neue,Helvetica,sans-serif; font-size:16; text-anchor:middle;\" transform=\"rotate(-90, 14.4, 185.966)\" x=\"14.4\" y=\"185.966\">best fitness</text>\n",
       "</g>\n",
       "<polyline clip-path=\"url(#clip4202)\" style=\"stroke:#009af9; stroke-width:1; stroke-opacity:1; fill:none\" points=\"\n",
       "  70.9329,21.6688 125.882,281.18 180.832,347.812 235.781,348.057 290.731,348.786 345.681,350.164 400.63,350.24 455.58,350.251 510.529,350.262 565.479,350.263 \n",
       "  \n",
       "  \"/>\n",
       "<polygon clip-path=\"url(#clip4200)\" points=\"\n",
       "375.218,62.931 562.315,62.931 562.315,32.691 375.218,32.691 \n",
       "  \" fill=\"#ffffff\" fill-opacity=\"1\"/>\n",
       "<polyline clip-path=\"url(#clip4200)\" style=\"stroke:#000000; stroke-width:1; stroke-opacity:1; fill:none\" points=\"\n",
       "  375.218,62.931 562.315,62.931 562.315,32.691 375.218,32.691 375.218,62.931 \n",
       "  \"/>\n",
       "<polyline clip-path=\"url(#clip4200)\" style=\"stroke:#009af9; stroke-width:1; stroke-opacity:1; fill:none\" points=\"\n",
       "  381.218,47.811 417.218,47.811 \n",
       "  \"/>\n",
       "<g clip-path=\"url(#clip4200)\">\n",
       "<text style=\"fill:#000000; fill-opacity:1; font-family:Arial,Helvetica Neue,Helvetica,sans-serif; font-size:12; text-anchor:start;\" transform=\"rotate(0, 423.218, 52.311)\" x=\"423.218\" y=\"52.311\">best_fitness 100 by 100</text>\n",
       "</g>\n",
       "</svg>\n"
      ]
     },
     "execution_count": 157,
     "metadata": {},
     "output_type": "execute_result"
    }
   ],
   "source": [
    "# Plot fitness\n",
    "plot(collect(1:1:nbRepeatSteps), progressFitness[1:nbRepeatSteps], label = \"best_fitness 100 by 100\", xlabel = \"Batch number\", ylabel =\"best fitness\")"
   ]
  },
  {
   "cell_type": "raw",
   "metadata": {},
   "source": [
    "versioninfo()"
   ]
  },
  {
   "cell_type": "code",
   "execution_count": 148,
   "metadata": {},
   "outputs": [
    {
     "data": {
      "text/plain": [
       "1-element Array{Symbol,1}:\n",
       " :dicts"
      ]
     },
     "execution_count": 148,
     "metadata": {},
     "output_type": "execute_result"
    }
   ],
   "source": [
    "fieldnames(opt1.parameters)"
   ]
  },
  {
   "cell_type": "code",
   "execution_count": 149,
   "metadata": {},
   "outputs": [
    {
     "data": {
      "text/plain": [
       "50"
      ]
     },
     "execution_count": 149,
     "metadata": {},
     "output_type": "execute_result"
    }
   ],
   "source": [
    "opt1.parameters[:PopulationSize]"
   ]
  },
  {
   "cell_type": "code",
   "execution_count": 150,
   "metadata": {
    "scrolled": false
   },
   "outputs": [
    {
     "data": {
      "text/plain": [
       "BlackBoxOptim.DictChain{Symbol,Any}[BlackBoxOptim.DictChain{Symbol,Any}[Dict{Symbol,Any}(Pair{Symbol,Any}(:RngSeed, 560635),Pair{Symbol,Any}(:NumDimensions, 2),Pair{Symbol,Any}(:SearchRange, (-5.0, 5.0)),Pair{Symbol,Any}(:TraceMode, :silent),Pair{Symbol,Any}(:MaxSteps, 300),Pair{Symbol,Any}(:PopulationSize, 50)),Dict{Symbol,Any}()],Dict{Symbol,Any}(Pair{Symbol,Any}(:FitnessScheme, BlackBoxOptim.ScalarFitnessScheme{true}()),Pair{Symbol,Any}(:NumDimensions, :NotSpecified),Pair{Symbol,Any}(:PopulationSize, 50),Pair{Symbol,Any}(:MaxTime, 0.0),Pair{Symbol,Any}(:SearchRange, (-1.0, 1.0)),Pair{Symbol,Any}(:Method, :adaptive_de_rand_1_bin_radiuslimited),Pair{Symbol,Any}(:MaxNumStepsWithoutFuncEvals, 100),Pair{Symbol,Any}(:RngSeed, 1234),Pair{Symbol,Any}(:MaxFuncEvals, 0),Pair{Symbol,Any}(:SaveTrace, false)…)]"
      ]
     },
     "execution_count": 150,
     "metadata": {},
     "output_type": "execute_result"
    }
   ],
   "source": [
    "listRes[1].parameters"
   ]
  },
  {
   "cell_type": "code",
   "execution_count": 159,
   "metadata": {
    "collapsed": true
   },
   "outputs": [],
   "source": [
    "rosenbrock2d(x) = abs2(1.0 - x[1]) + 100.0 * abs2(x[2] - x[1]^2)\n",
    "\n",
    "\n",
    "opt1 = bbsetup(rosenbrock2d; SearchRange = (-5.0, 5.0), NumDimensions = 2,\n",
    "    MaxSteps = maxSteps1, PopulationSize = 100, TraceMode = :silent);"
   ]
  },
  {
   "cell_type": "code",
   "execution_count": 160,
   "metadata": {},
   "outputs": [
    {
     "data": {
      "text/plain": [
       "BlackBoxOptim.DictChain{Symbol,Any}[BlackBoxOptim.DictChain{Symbol,Any}[Dict{Symbol,Any}(Pair{Symbol,Any}(:NumDimensions, 2),Pair{Symbol,Any}(:SearchRange, (-5.0, 5.0)),Pair{Symbol,Any}(:TraceMode, :silent),Pair{Symbol,Any}(:MaxSteps, 350),Pair{Symbol,Any}(:PopulationSize, 100)),Dict{Symbol,Any}()],Dict{Symbol,Any}(Pair{Symbol,Any}(:FitnessScheme, BlackBoxOptim.ScalarFitnessScheme{true}()),Pair{Symbol,Any}(:NumDimensions, :NotSpecified),Pair{Symbol,Any}(:PopulationSize, 50),Pair{Symbol,Any}(:MaxTime, 0.0),Pair{Symbol,Any}(:SearchRange, (-1.0, 1.0)),Pair{Symbol,Any}(:Method, :adaptive_de_rand_1_bin_radiuslimited),Pair{Symbol,Any}(:MaxNumStepsWithoutFuncEvals, 100),Pair{Symbol,Any}(:RngSeed, 1234),Pair{Symbol,Any}(:MaxFuncEvals, 0),Pair{Symbol,Any}(:SaveTrace, false)…)]"
      ]
     },
     "execution_count": 160,
     "metadata": {},
     "output_type": "execute_result"
    }
   ],
   "source": [
    "opt1.parameters"
   ]
  }
 ],
 "metadata": {
  "kernelspec": {
   "display_name": "Julia 0.6.4",
   "language": "julia",
   "name": "julia-0.6"
  },
  "language_info": {
   "file_extension": ".jl",
   "mimetype": "application/julia",
   "name": "julia",
   "version": "0.6.4"
  }
 },
 "nbformat": 4,
 "nbformat_minor": 2
}
